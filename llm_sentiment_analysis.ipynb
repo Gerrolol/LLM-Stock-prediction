{
 "cells": [
  {
   "cell_type": "code",
   "execution_count": null,
   "id": "35d6bb85",
   "metadata": {},
   "outputs": [
    {
     "ename": "NewsAPIException",
     "evalue": "{'status': 'error', 'code': 'rateLimited', 'message': 'You have made too many requests recently. Developer accounts are limited to 100 requests over a 24 hour period (50 requests available every 12 hours). Please upgrade to a paid plan if you need more requests.'}",
     "output_type": "error",
     "traceback": [
      "\u001b[31m---------------------------------------------------------------------------\u001b[39m",
      "\u001b[31mNewsAPIException\u001b[39m                          Traceback (most recent call last)",
      "\u001b[36mCell\u001b[39m\u001b[36m \u001b[39m\u001b[32mIn[9]\u001b[39m\u001b[32m, line 12\u001b[39m\n\u001b[32m      9\u001b[39m newsapi = NewsApiClient(api_key=\u001b[33m'\u001b[39m\u001b[33mfe27f943772a4235a29f751edabae735\u001b[39m\u001b[33m'\u001b[39m)\n\u001b[32m     11\u001b[39m \u001b[38;5;66;03m# Fetch Bitcoin news\u001b[39;00m\n\u001b[32m---> \u001b[39m\u001b[32m12\u001b[39m all_articles = \u001b[43mnewsapi\u001b[49m\u001b[43m.\u001b[49m\u001b[43mget_everything\u001b[49m\u001b[43m(\u001b[49m\u001b[43mq\u001b[49m\u001b[43m=\u001b[49m\u001b[33;43m'\u001b[39;49m\u001b[33;43mBitcoin\u001b[39;49m\u001b[33;43m'\u001b[39;49m\u001b[43m,\u001b[49m\u001b[43m \u001b[49m\u001b[43mlanguage\u001b[49m\u001b[43m=\u001b[49m\u001b[33;43m'\u001b[39;49m\u001b[33;43men\u001b[39;49m\u001b[33;43m'\u001b[39;49m\u001b[43m,\u001b[49m\u001b[43m \u001b[49m\u001b[43msort_by\u001b[49m\u001b[43m=\u001b[49m\u001b[33;43m'\u001b[39;49m\u001b[33;43mpublishedAt\u001b[39;49m\u001b[33;43m'\u001b[39;49m\u001b[43m,\u001b[49m\u001b[43m \u001b[49m\u001b[43mpage_size\u001b[49m\u001b[43m=\u001b[49m\u001b[32;43m100\u001b[39;49m\u001b[43m)\u001b[49m\n\u001b[32m     13\u001b[39m news_df = pd.DataFrame(all_articles[\u001b[33m'\u001b[39m\u001b[33marticles\u001b[39m\u001b[33m'\u001b[39m])\n\u001b[32m     14\u001b[39m news_df[\u001b[33m'\u001b[39m\u001b[33mpublishedAt\u001b[39m\u001b[33m'\u001b[39m] = pd.to_datetime(news_df[\u001b[33m'\u001b[39m\u001b[33mpublishedAt\u001b[39m\u001b[33m'\u001b[39m]).dt.normalize()\n",
      "\u001b[36mFile \u001b[39m\u001b[32mc:\\Users\\USER\\AppData\\Local\\Programs\\Python\\Python312\\Lib\\site-packages\\newsapi\\newsapi_client.py:334\u001b[39m, in \u001b[36mNewsApiClient.get_everything\u001b[39m\u001b[34m(self, q, qintitle, sources, domains, exclude_domains, from_param, to, language, sort_by, page, page_size)\u001b[39m\n\u001b[32m    332\u001b[39m \u001b[38;5;66;03m# Check Status of Request\u001b[39;00m\n\u001b[32m    333\u001b[39m \u001b[38;5;28;01mif\u001b[39;00m r.status_code != requests.codes.ok:\n\u001b[32m--> \u001b[39m\u001b[32m334\u001b[39m     \u001b[38;5;28;01mraise\u001b[39;00m NewsAPIException(r.json())\n\u001b[32m    336\u001b[39m \u001b[38;5;28;01mreturn\u001b[39;00m r.json()\n",
      "\u001b[31mNewsAPIException\u001b[39m: {'status': 'error', 'code': 'rateLimited', 'message': 'You have made too many requests recently. Developer accounts are limited to 100 requests over a 24 hour period (50 requests available every 12 hours). Please upgrade to a paid plan if you need more requests.'}"
     ]
    }
   ],
   "source": [
    "import pandas as pd\n",
    "from newsapi import NewsApiClient\n",
    "from transformers import pipeline\n",
    "import torch\n",
    "import os\n",
    "from tqdm import tqdm\n",
    "\n",
    "# Initialize News API\n",
    "newsapi = NewsApiClient(api_key='fe27f943772a4235a29f751edabae735')\n",
    "\n",
    "# Fetch Bitcoin news\n",
    "all_articles = newsapi.get_everything(q='Bitcoin', language='en', sort_by='publishedAt', page_size=100)\n",
    "news_df = pd.DataFrame(all_articles['articles'])\n",
    "news_df['publishedAt'] = pd.to_datetime(news_df['publishedAt']).dt.normalize()\n",
    "\n",
    "# Initialize LLM sentiment pipeline \n",
    "sentiment_pipeline = pipeline(\n",
    "    \"text-classification\", \n",
    "    model=\"mrm8488/distilroberta-finetuned-financial-news-sentiment-analysis\",\n",
    "    device=0 if torch.cuda.is_available() else -1  # Use GPU if available\n",
    ")\n",
    "\n",
    "def analyze_sentiment(text):\n",
    "    try:\n",
    "        result = sentiment_pipeline(text[:512])[0]  # Truncate to model max length\n",
    "        return result['score'] * (1 if result['label'] == 'positive' else -1)\n",
    "    except:\n",
    "        return 0  # Neutral if error\n",
    "\n",
    "# Process headlines with progress bar\n",
    "tqdm.pandas()\n",
    "news_df['llm_sentiment'] = news_df['title'].progress_apply(analyze_sentiment)\n",
    "\n",
    "# Save results\n",
    "news_df[['publishedAt', 'llm_sentiment']].to_csv('llm_sentiment_scores.csv', index=False)\n",
    "print(\"Sentiment analysis completed and saved.\")"
   ]
  },
  {
   "cell_type": "code",
   "execution_count": 2,
   "id": "709915f3",
   "metadata": {},
   "outputs": [
    {
     "name": "stdout",
     "output_type": "stream",
     "text": [
      "\n",
      "=== Dates in Saved Data ===\n",
      "2025-05-27\n",
      "2025-05-28\n"
     ]
    }
   ],
   "source": [
    "import pandas as pd\n",
    "# Load your existing file\n",
    "df = pd.read_csv('crypto_sentiment_results.csv')\n",
    "\n",
    "# Extract and display dates\n",
    "print(\"\\n=== Dates in Saved Data ===\")\n",
    "dates = pd.to_datetime(df['publishedAt']).dt.date.unique()\n",
    "for date in sorted(dates):\n",
    "    print(date)"
   ]
  }
 ],
 "metadata": {
  "kernelspec": {
   "display_name": "Python 3",
   "language": "python",
   "name": "python3"
  },
  "language_info": {
   "codemirror_mode": {
    "name": "ipython",
    "version": 3
   },
   "file_extension": ".py",
   "mimetype": "text/x-python",
   "name": "python",
   "nbconvert_exporter": "python",
   "pygments_lexer": "ipython3",
   "version": "3.12.5"
  }
 },
 "nbformat": 4,
 "nbformat_minor": 5
}
