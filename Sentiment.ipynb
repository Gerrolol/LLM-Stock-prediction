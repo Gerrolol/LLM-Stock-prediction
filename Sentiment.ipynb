{
 "cells": [
  {
   "cell_type": "code",
   "execution_count": 25,
   "id": "853f2c90",
   "metadata": {},
   "outputs": [
    {
     "name": "stdout",
     "output_type": "stream",
     "text": [
      "Requirement already satisfied: python-binance in c:\\users\\user\\appdata\\local\\programs\\python\\python312\\lib\\site-packages (1.0.28)\n",
      "Requirement already satisfied: requests in c:\\users\\user\\appdata\\local\\programs\\python\\python312\\lib\\site-packages (from python-binance) (2.32.3)\n",
      "Requirement already satisfied: six in c:\\users\\user\\appdata\\local\\programs\\python\\python312\\lib\\site-packages (from python-binance) (1.16.0)\n",
      "Requirement already satisfied: dateparser in c:\\users\\user\\appdata\\local\\programs\\python\\python312\\lib\\site-packages (from python-binance) (1.2.1)\n",
      "Requirement already satisfied: aiohttp in c:\\users\\user\\appdata\\local\\programs\\python\\python312\\lib\\site-packages (from python-binance) (3.11.16)\n",
      "Requirement already satisfied: websockets in c:\\users\\user\\appdata\\local\\programs\\python\\python312\\lib\\site-packages (from python-binance) (15.0.1)\n",
      "Requirement already satisfied: pycryptodome in c:\\users\\user\\appdata\\local\\programs\\python\\python312\\lib\\site-packages (from python-binance) (3.22.0)\n",
      "Requirement already satisfied: aiohappyeyeballs>=2.3.0 in c:\\users\\user\\appdata\\local\\programs\\python\\python312\\lib\\site-packages (from aiohttp->python-binance) (2.6.1)\n",
      "Requirement already satisfied: aiosignal>=1.1.2 in c:\\users\\user\\appdata\\local\\programs\\python\\python312\\lib\\site-packages (from aiohttp->python-binance) (1.3.2)\n",
      "Requirement already satisfied: attrs>=17.3.0 in c:\\users\\user\\appdata\\local\\programs\\python\\python312\\lib\\site-packages (from aiohttp->python-binance) (25.3.0)\n",
      "Requirement already satisfied: frozenlist>=1.1.1 in c:\\users\\user\\appdata\\local\\programs\\python\\python312\\lib\\site-packages (from aiohttp->python-binance) (1.5.0)\n",
      "Requirement already satisfied: multidict<7.0,>=4.5 in c:\\users\\user\\appdata\\local\\programs\\python\\python312\\lib\\site-packages (from aiohttp->python-binance) (6.4.3)\n",
      "Requirement already satisfied: propcache>=0.2.0 in c:\\users\\user\\appdata\\local\\programs\\python\\python312\\lib\\site-packages (from aiohttp->python-binance) (0.3.1)\n",
      "Requirement already satisfied: yarl<2.0,>=1.17.0 in c:\\users\\user\\appdata\\local\\programs\\python\\python312\\lib\\site-packages (from aiohttp->python-binance) (1.19.0)\n",
      "Requirement already satisfied: python-dateutil>=2.7.0 in c:\\users\\user\\appdata\\local\\programs\\python\\python312\\lib\\site-packages (from dateparser->python-binance) (2.9.0.post0)\n",
      "Requirement already satisfied: pytz>=2024.2 in c:\\users\\user\\appdata\\local\\programs\\python\\python312\\lib\\site-packages (from dateparser->python-binance) (2025.2)\n",
      "Requirement already satisfied: regex!=2019.02.19,!=2021.8.27,>=2015.06.24 in c:\\users\\user\\appdata\\local\\programs\\python\\python312\\lib\\site-packages (from dateparser->python-binance) (2024.11.6)\n",
      "Requirement already satisfied: tzlocal>=0.2 in c:\\users\\user\\appdata\\local\\programs\\python\\python312\\lib\\site-packages (from dateparser->python-binance) (5.3.1)\n",
      "Requirement already satisfied: charset-normalizer<4,>=2 in c:\\users\\user\\appdata\\local\\programs\\python\\python312\\lib\\site-packages (from requests->python-binance) (3.4.1)\n",
      "Requirement already satisfied: idna<4,>=2.5 in c:\\users\\user\\appdata\\local\\programs\\python\\python312\\lib\\site-packages (from requests->python-binance) (3.10)\n",
      "Requirement already satisfied: urllib3<3,>=1.21.1 in c:\\users\\user\\appdata\\local\\programs\\python\\python312\\lib\\site-packages (from requests->python-binance) (2.4.0)\n",
      "Requirement already satisfied: certifi>=2017.4.17 in c:\\users\\user\\appdata\\local\\programs\\python\\python312\\lib\\site-packages (from requests->python-binance) (2025.1.31)\n",
      "Requirement already satisfied: tzdata in c:\\users\\user\\appdata\\local\\programs\\python\\python312\\lib\\site-packages (from tzlocal>=0.2->dateparser->python-binance) (2024.1)\n",
      "Note: you may need to restart the kernel to use updated packages.\n"
     ]
    },
    {
     "name": "stderr",
     "output_type": "stream",
     "text": [
      "\n",
      "[notice] A new release of pip is available: 25.0.1 -> 25.1.1\n",
      "[notice] To update, run: python.exe -m pip install --upgrade pip\n"
     ]
    }
   ],
   "source": [
    "pip install python-binance"
   ]
  },
  {
   "cell_type": "code",
   "execution_count": 26,
   "id": "840cd498",
   "metadata": {},
   "outputs": [],
   "source": [
    "from binance.client import Client\n",
    "import pandas as pd\n",
    "\n",
    "# For public price data, you can leave keys empty\n",
    "client = Client(api_key='', api_secret='')\n",
    "\n",
    "# Example: Get 100 daily candles for BTC/USDT\n",
    "klines = client.get_klines(symbol='BTCUSDT', interval=Client.KLINE_INTERVAL_1DAY, limit=100)\n",
    "\n",
    "# Convert to DataFrame\n",
    "df = pd.DataFrame(klines, columns=[\n",
    "    'Open time', 'Open', 'High', 'Low', 'Close', 'Volume',\n",
    "    'Close time', 'Quote asset volume', 'Number of trades',\n",
    "    'Taker buy base asset volume', 'Taker buy quote asset volume', 'Ignore'\n",
    "])\n",
    "df['Date'] = pd.to_datetime(df['Open time'], unit='ms')\n",
    "df[['Open', 'High', 'Low', 'Close', 'Volume']] = df[['Open', 'High', 'Low', 'Close', 'Volume']].astype(float)\n",
    "df = df[['Date', 'Open', 'High', 'Low', 'Close', 'Volume']]\n"
   ]
  },
  {
   "cell_type": "code",
   "execution_count": 27,
   "id": "d501fb1e",
   "metadata": {},
   "outputs": [
    {
     "name": "stdout",
     "output_type": "stream",
     "text": [
      "        Date      Open      High       Low     Close       Volume\n",
      "0 2025-02-14  96608.13  98826.00  96252.82  97500.48  18173.02646\n",
      "1 2025-02-15  97500.47  97972.26  97223.58  97569.66   7349.37683\n",
      "2 2025-02-16  97569.67  97704.47  96046.18  96118.12   8191.42490\n",
      "3 2025-02-17  96118.12  97046.59  95205.00  95780.00  16492.04510\n",
      "4 2025-02-18  95780.01  96753.91  93388.09  95671.74  23368.19471\n"
     ]
    }
   ],
   "source": [
    "print(df.head())"
   ]
  },
  {
   "cell_type": "code",
   "execution_count": 28,
   "id": "e761298d",
   "metadata": {},
   "outputs": [
    {
     "name": "stdout",
     "output_type": "stream",
     "text": [
      "Requirement already satisfied: pandas-ta in c:\\users\\user\\appdata\\local\\programs\\python\\python312\\lib\\site-packages (0.3.14b0)\n",
      "Requirement already satisfied: pandas in c:\\users\\user\\appdata\\local\\programs\\python\\python312\\lib\\site-packages (from pandas-ta) (2.2.2)\n",
      "Requirement already satisfied: numpy>=1.26.0 in c:\\users\\user\\appdata\\local\\programs\\python\\python312\\lib\\site-packages (from pandas->pandas-ta) (2.1.0)\n",
      "Requirement already satisfied: python-dateutil>=2.8.2 in c:\\users\\user\\appdata\\local\\programs\\python\\python312\\lib\\site-packages (from pandas->pandas-ta) (2.9.0.post0)\n",
      "Requirement already satisfied: pytz>=2020.1 in c:\\users\\user\\appdata\\local\\programs\\python\\python312\\lib\\site-packages (from pandas->pandas-ta) (2025.2)\n",
      "Requirement already satisfied: tzdata>=2022.7 in c:\\users\\user\\appdata\\local\\programs\\python\\python312\\lib\\site-packages (from pandas->pandas-ta) (2024.1)\n",
      "Requirement already satisfied: six>=1.5 in c:\\users\\user\\appdata\\local\\programs\\python\\python312\\lib\\site-packages (from python-dateutil>=2.8.2->pandas->pandas-ta) (1.16.0)\n",
      "Note: you may need to restart the kernel to use updated packages.\n"
     ]
    },
    {
     "name": "stderr",
     "output_type": "stream",
     "text": [
      "\n",
      "[notice] A new release of pip is available: 25.0.1 -> 25.1.1\n",
      "[notice] To update, run: python.exe -m pip install --upgrade pip\n"
     ]
    }
   ],
   "source": [
    "pip install pandas-ta"
   ]
  },
  {
   "cell_type": "code",
   "execution_count": 29,
   "id": "7d9f441e",
   "metadata": {},
   "outputs": [
    {
     "name": "stdout",
     "output_type": "stream",
     "text": [
      "Requirement already satisfied: ta in c:\\users\\user\\appdata\\local\\programs\\python\\python312\\lib\\site-packages (0.11.0)\n",
      "Requirement already satisfied: numpy in c:\\users\\user\\appdata\\local\\programs\\python\\python312\\lib\\site-packages (from ta) (2.1.0)\n",
      "Requirement already satisfied: pandas in c:\\users\\user\\appdata\\local\\programs\\python\\python312\\lib\\site-packages (from ta) (2.2.2)\n",
      "Requirement already satisfied: python-dateutil>=2.8.2 in c:\\users\\user\\appdata\\local\\programs\\python\\python312\\lib\\site-packages (from pandas->ta) (2.9.0.post0)\n",
      "Requirement already satisfied: pytz>=2020.1 in c:\\users\\user\\appdata\\local\\programs\\python\\python312\\lib\\site-packages (from pandas->ta) (2025.2)\n",
      "Requirement already satisfied: tzdata>=2022.7 in c:\\users\\user\\appdata\\local\\programs\\python\\python312\\lib\\site-packages (from pandas->ta) (2024.1)\n",
      "Requirement already satisfied: six>=1.5 in c:\\users\\user\\appdata\\local\\programs\\python\\python312\\lib\\site-packages (from python-dateutil>=2.8.2->pandas->ta) (1.16.0)\n",
      "Note: you may need to restart the kernel to use updated packages.\n"
     ]
    },
    {
     "name": "stderr",
     "output_type": "stream",
     "text": [
      "\n",
      "[notice] A new release of pip is available: 25.0.1 -> 25.1.1\n",
      "[notice] To update, run: python.exe -m pip install --upgrade pip\n"
     ]
    }
   ],
   "source": [
    "pip install ta"
   ]
  },
  {
   "cell_type": "code",
   "execution_count": null,
   "id": "ac97c198",
   "metadata": {},
   "outputs": [],
   "source": [
    "import ta\n",
    "\n",
    "df = df.dropna()\n",
    "df['RSI_14'] = ta.momentum.RSIIndicator(close=df['Close'], window=14).rsi()\n",
    "df['SMA_10'] = ta.trend.SMAIndicator(close=df['Close'], window=10).sma_indicator()\n",
    "df['EMA_10'] = ta.trend.EMAIndicator(close=df['Close'], window=10).ema_indicator()\n",
    "\n",
    "\n",
    "# Bollinger Bands\n",
    "bb = ta.volatility.BollingerBands(close=df['Close'])\n",
    "df['BB_High'] = bb.bollinger_hband()\n",
    "df['BB_Low'] = bb.bollinger_lband()\n",
    "\n",
    "# MACD\n",
    "macd = ta.trend.MACD(close=df['Close'])\n",
    "df['MACD'] = macd.macd()\n",
    "\n",
    "# Stochastic Oscillator\n",
    "stoch = ta.momentum.StochasticOscillator(high=df['High'], low=df['Low'], close=df['Close'])\n",
    "df['Stoch_K'] = stoch.stoch()\n",
    "df['Stoch_D'] = stoch.stoch_signal()\n",
    "\n",
    "# CCI (Commodity Channel Index)\n",
    "cci = ta.trend.CCIIndicator(high=df['High'], low=df['Low'], close=df['Close'])\n",
    "df['CCI'] = cci.cci()\n",
    "\n",
    "# ADX (Average Directional Index)\n",
    "adx = ta.trend.ADXIndicator(high=df['High'], low=df['Low'], close=df['Close'])\n",
    "df['ADX'] = adx.adx()\n",
    "\n"
   ]
  },
  {
   "cell_type": "code",
   "execution_count": 31,
   "id": "d6fbc516",
   "metadata": {},
   "outputs": [
    {
     "name": "stdout",
     "output_type": "stream",
     "text": [
      "         Date       Open       High        Low      Close        Volume  \\\n",
      "90 2025-05-15  103507.83  104192.70  101383.07  103763.71  17998.986040   \n",
      "91 2025-05-16  103763.71  104550.33  103100.49  103463.90  15683.880240   \n",
      "92 2025-05-17  103463.90  103709.86  102612.50  103126.65  11250.896220   \n",
      "93 2025-05-18  103126.65  106660.00  103105.09  106454.26  21599.987260   \n",
      "94 2025-05-19  106454.27  107108.62  102000.00  105573.74  30260.035240   \n",
      "95 2025-05-20  105573.73  107320.00  104184.72  106849.99  23705.482750   \n",
      "96 2025-05-21  106850.00  110797.38  106100.01  109643.99  45531.040345   \n",
      "97 2025-05-22  109643.99  111980.00  109177.37  111696.21  31630.773130   \n",
      "98 2025-05-23  111696.22  111800.00  106800.00  107318.30  31737.723090   \n",
      "99 2025-05-24  107318.30  107680.83  106875.41  107363.32    859.642510   \n",
      "\n",
      "       RSI_14      SMA_10         EMA_10        BB_High        BB_Low  \\\n",
      "90  69.673543  102319.221  101993.989296  107067.052731  90258.375269   \n",
      "91  68.451737  102982.209  102261.245787  107542.913601  90666.104399   \n",
      "92  67.027835  103591.824  102418.592008  107809.103319  91337.649681   \n",
      "93  72.996540  103911.090  103152.349825  108620.454665  91670.606335   \n",
      "94  69.415724  104171.265  103592.602584  109048.121802  92374.631198   \n",
      "95  71.591012  104375.311  104184.854841  109523.162895  93167.389105   \n",
      "96  75.670672  104927.910  105177.424870  110617.290818  93388.669182   \n",
      "97  78.152400  105818.399  106362.658530  111993.873658  93492.993342   \n",
      "98  63.314988  106139.857  106536.411525  112202.279347  94430.775653   \n",
      "99  63.391957  106525.407  106686.758520  111982.002586  95959.622414   \n",
      "\n",
      "           MACD    Stoch_K    Stoch_D         CCI        ADX  \n",
      "90  3974.360783  83.478013  83.869647   80.512550  33.929007  \n",
      "91  3847.879697  81.068439  81.989292   80.487674  33.252067  \n",
      "92  3678.031214  78.357960  80.968137   64.016447  32.327290  \n",
      "93  3768.494525  98.451103  85.959167   92.886669  32.483300  \n",
      "94  3726.183621  88.822295  88.543786   77.922030  31.983609  \n",
      "95  3752.379538  95.925495  94.399631   94.045227  31.592157  \n",
      "96  3953.024435  91.714801  92.154197  136.134263  32.249821  \n",
      "97  4228.885999  97.480027  95.040108  165.031711  33.141725  \n",
      "98  4047.589436  58.605459  82.600096  119.158000  32.668815  \n",
      "99  3863.012932  59.005224  71.696904   87.670584  32.229683  \n"
     ]
    }
   ],
   "source": [
    "print(df.tail(10))  # shows last 10 rows"
   ]
  },
  {
   "cell_type": "code",
   "execution_count": 32,
   "id": "7bfc9577",
   "metadata": {},
   "outputs": [
    {
     "name": "stdout",
     "output_type": "stream",
     "text": [
      "Requirement already satisfied: newsapi-python in c:\\users\\user\\appdata\\local\\programs\\python\\python312\\lib\\site-packages (0.2.7)\n",
      "Requirement already satisfied: vaderSentiment in c:\\users\\user\\appdata\\local\\programs\\python\\python312\\lib\\site-packages (3.3.2)\n",
      "Requirement already satisfied: requests<3.0.0 in c:\\users\\user\\appdata\\local\\programs\\python\\python312\\lib\\site-packages (from newsapi-python) (2.32.3)\n",
      "Requirement already satisfied: charset-normalizer<4,>=2 in c:\\users\\user\\appdata\\local\\programs\\python\\python312\\lib\\site-packages (from requests<3.0.0->newsapi-python) (3.4.1)\n",
      "Requirement already satisfied: idna<4,>=2.5 in c:\\users\\user\\appdata\\local\\programs\\python\\python312\\lib\\site-packages (from requests<3.0.0->newsapi-python) (3.10)\n",
      "Requirement already satisfied: urllib3<3,>=1.21.1 in c:\\users\\user\\appdata\\local\\programs\\python\\python312\\lib\\site-packages (from requests<3.0.0->newsapi-python) (2.4.0)\n",
      "Requirement already satisfied: certifi>=2017.4.17 in c:\\users\\user\\appdata\\local\\programs\\python\\python312\\lib\\site-packages (from requests<3.0.0->newsapi-python) (2025.1.31)\n",
      "Note: you may need to restart the kernel to use updated packages.\n"
     ]
    },
    {
     "name": "stderr",
     "output_type": "stream",
     "text": [
      "\n",
      "[notice] A new release of pip is available: 25.0.1 -> 25.1.1\n",
      "[notice] To update, run: python.exe -m pip install --upgrade pip\n"
     ]
    }
   ],
   "source": [
    "pip install newsapi-python vaderSentiment"
   ]
  },
  {
   "cell_type": "code",
   "execution_count": null,
   "id": "a9b9e9fb",
   "metadata": {},
   "outputs": [],
   "source": [
    "from newsapi import NewsApiClient\n",
    "from vaderSentiment.vaderSentiment import SentimentIntensityAnalyzer\n",
    "import pandas as pd\n",
    "\n",
    "\n",
    "newsapi = NewsApiClient(api_key='fe27f943772a4235a29f751edabae735')\n",
    "\n",
    "all_articles = newsapi.get_everything(\n",
    "    q='Bitcoin',\n",
    "    language='en',\n",
    "    sort_by='publishedAt',\n",
    "    page_size=100\n",
    ")\n",
    "news_df = pd.DataFrame(all_articles['articles'])\n",
    "news_df['publishedAt'] = pd.to_datetime(news_df['publishedAt'])\n",
    "\n",
    "# Sentiment analysis using VADER\n",
    "analyzer = SentimentIntensityAnalyzer()\n",
    "news_df['sentiment_score'] = news_df['title'].apply(lambda x: analyzer.polarity_scores(x)['compound'])\n",
    "\n",
    "# Add 'Date' column for grouping\n",
    "news_df['Date'] = news_df['publishedAt'].dt.date\n",
    "news_df['Date'] = pd.to_datetime(news_df['Date'])\n",
    "\n",
    "# Group by date to get average sentiment per day\n",
    "daily_sentiment = news_df.groupby('Date')['sentiment_score'].mean().reset_index()\n",
    "daily_sentiment.rename(columns={'sentiment_score': 'Sentiment'}, inplace=True)\n"
   ]
  },
  {
   "cell_type": "code",
   "execution_count": 34,
   "id": "f23ef497",
   "metadata": {},
   "outputs": [
    {
     "data": {
      "text/html": [
       "<div>\n",
       "<style scoped>\n",
       "    .dataframe tbody tr th:only-of-type {\n",
       "        vertical-align: middle;\n",
       "    }\n",
       "\n",
       "    .dataframe tbody tr th {\n",
       "        vertical-align: top;\n",
       "    }\n",
       "\n",
       "    .dataframe thead th {\n",
       "        text-align: right;\n",
       "    }\n",
       "</style>\n",
       "<table border=\"1\" class=\"dataframe\">\n",
       "  <thead>\n",
       "    <tr style=\"text-align: right;\">\n",
       "      <th></th>\n",
       "      <th>source</th>\n",
       "      <th>author</th>\n",
       "      <th>title</th>\n",
       "      <th>description</th>\n",
       "      <th>url</th>\n",
       "      <th>urlToImage</th>\n",
       "      <th>publishedAt</th>\n",
       "      <th>content</th>\n",
       "      <th>sentiment_score</th>\n",
       "      <th>Date</th>\n",
       "    </tr>\n",
       "  </thead>\n",
       "  <tbody>\n",
       "    <tr>\n",
       "      <th>0</th>\n",
       "      <td>{'id': None, 'name': 'Biztoc.com'}</td>\n",
       "      <td>bloomberg.com</td>\n",
       "      <td>Trump Team’s ‘Game of Thrones’ on Venezuela Wh...</td>\n",
       "      <td></td>\n",
       "      <td>https://biztoc.com/x/35f84574501cde74</td>\n",
       "      <td>https://biztoc.com/cdn/35f84574501cde74_s.webp</td>\n",
       "      <td>2025-05-23 00:40:39+00:00</td>\n",
       "      <td>{ window.open(this.href, '_blank'); }, 200); r...</td>\n",
       "      <td>0.0000</td>\n",
       "      <td>2025-05-23</td>\n",
       "    </tr>\n",
       "    <tr>\n",
       "      <th>1</th>\n",
       "      <td>{'id': None, 'name': 'Biztoc.com'}</td>\n",
       "      <td>bloomberg.com</td>\n",
       "      <td>Europe-Japan Fighter Jet Races Against China’s...</td>\n",
       "      <td></td>\n",
       "      <td>https://biztoc.com/x/20a44f5ac3e71383</td>\n",
       "      <td>https://biztoc.com/cdn/20a44f5ac3e71383_s.webp</td>\n",
       "      <td>2025-05-23 00:40:18+00:00</td>\n",
       "      <td>{ window.open(this.href, '_blank'); }, 200); r...</td>\n",
       "      <td>0.5267</td>\n",
       "      <td>2025-05-23</td>\n",
       "    </tr>\n",
       "    <tr>\n",
       "      <th>2</th>\n",
       "      <td>{'id': None, 'name': 'Yahoo Entertainment'}</td>\n",
       "      <td>Shomik Sen Bhattacharjee</td>\n",
       "      <td>Kevin O'Leary Says This One Habit Alone Could ...</td>\n",
       "      <td>Kevin O'Leary says the simplest path to millio...</td>\n",
       "      <td>https://finance.yahoo.com/news/kevin-oleary-sa...</td>\n",
       "      <td>https://media.zenfs.com/en/Benzinga/f5a639937b...</td>\n",
       "      <td>2025-05-23 00:31:34+00:00</td>\n",
       "      <td>Kevin O'Leary says the simplest path to millio...</td>\n",
       "      <td>-0.5267</td>\n",
       "      <td>2025-05-23</td>\n",
       "    </tr>\n",
       "    <tr>\n",
       "      <th>3</th>\n",
       "      <td>{'id': None, 'name': 'newsBTC'}</td>\n",
       "      <td>Ash Tiwari</td>\n",
       "      <td>Bitcoin ATH Met With Mixed Whale Reactions – W...</td>\n",
       "      <td>Yesterday, Bitcoin (BTC) made a fresh all-time...</td>\n",
       "      <td>http://www.newsbtc.com/bitcoin-news/bitcoin-at...</td>\n",
       "      <td>https://www.newsbtc.com/wp-content/uploads/202...</td>\n",
       "      <td>2025-05-23 00:30:39+00:00</td>\n",
       "      <td>Strict editorial policy that focuses on accura...</td>\n",
       "      <td>0.0000</td>\n",
       "      <td>2025-05-23</td>\n",
       "    </tr>\n",
       "    <tr>\n",
       "      <th>4</th>\n",
       "      <td>{'id': None, 'name': 'Biztoc.com'}</td>\n",
       "      <td>bloomberg.com</td>\n",
       "      <td>Japan’s Akazawa to Visit US for Third Round of...</td>\n",
       "      <td></td>\n",
       "      <td>https://biztoc.com/x/72a88e6e856eb1ae</td>\n",
       "      <td>https://biztoc.com/cdn/72a88e6e856eb1ae_s.webp</td>\n",
       "      <td>2025-05-23 00:29:26+00:00</td>\n",
       "      <td>{ window.open(this.href, '_blank'); }, 200); r...</td>\n",
       "      <td>0.0000</td>\n",
       "      <td>2025-05-23</td>\n",
       "    </tr>\n",
       "  </tbody>\n",
       "</table>\n",
       "</div>"
      ],
      "text/plain": [
       "                                        source                    author  \\\n",
       "0           {'id': None, 'name': 'Biztoc.com'}             bloomberg.com   \n",
       "1           {'id': None, 'name': 'Biztoc.com'}             bloomberg.com   \n",
       "2  {'id': None, 'name': 'Yahoo Entertainment'}  Shomik Sen Bhattacharjee   \n",
       "3              {'id': None, 'name': 'newsBTC'}                Ash Tiwari   \n",
       "4           {'id': None, 'name': 'Biztoc.com'}             bloomberg.com   \n",
       "\n",
       "                                               title  \\\n",
       "0  Trump Team’s ‘Game of Thrones’ on Venezuela Wh...   \n",
       "1  Europe-Japan Fighter Jet Races Against China’s...   \n",
       "2  Kevin O'Leary Says This One Habit Alone Could ...   \n",
       "3  Bitcoin ATH Met With Mixed Whale Reactions – W...   \n",
       "4  Japan’s Akazawa to Visit US for Third Round of...   \n",
       "\n",
       "                                         description  \\\n",
       "0                                                      \n",
       "1                                                      \n",
       "2  Kevin O'Leary says the simplest path to millio...   \n",
       "3  Yesterday, Bitcoin (BTC) made a fresh all-time...   \n",
       "4                                                      \n",
       "\n",
       "                                                 url  \\\n",
       "0              https://biztoc.com/x/35f84574501cde74   \n",
       "1              https://biztoc.com/x/20a44f5ac3e71383   \n",
       "2  https://finance.yahoo.com/news/kevin-oleary-sa...   \n",
       "3  http://www.newsbtc.com/bitcoin-news/bitcoin-at...   \n",
       "4              https://biztoc.com/x/72a88e6e856eb1ae   \n",
       "\n",
       "                                          urlToImage  \\\n",
       "0     https://biztoc.com/cdn/35f84574501cde74_s.webp   \n",
       "1     https://biztoc.com/cdn/20a44f5ac3e71383_s.webp   \n",
       "2  https://media.zenfs.com/en/Benzinga/f5a639937b...   \n",
       "3  https://www.newsbtc.com/wp-content/uploads/202...   \n",
       "4     https://biztoc.com/cdn/72a88e6e856eb1ae_s.webp   \n",
       "\n",
       "                publishedAt  \\\n",
       "0 2025-05-23 00:40:39+00:00   \n",
       "1 2025-05-23 00:40:18+00:00   \n",
       "2 2025-05-23 00:31:34+00:00   \n",
       "3 2025-05-23 00:30:39+00:00   \n",
       "4 2025-05-23 00:29:26+00:00   \n",
       "\n",
       "                                             content  sentiment_score  \\\n",
       "0  { window.open(this.href, '_blank'); }, 200); r...           0.0000   \n",
       "1  { window.open(this.href, '_blank'); }, 200); r...           0.5267   \n",
       "2  Kevin O'Leary says the simplest path to millio...          -0.5267   \n",
       "3  Strict editorial policy that focuses on accura...           0.0000   \n",
       "4  { window.open(this.href, '_blank'); }, 200); r...           0.0000   \n",
       "\n",
       "        Date  \n",
       "0 2025-05-23  \n",
       "1 2025-05-23  \n",
       "2 2025-05-23  \n",
       "3 2025-05-23  \n",
       "4 2025-05-23  "
      ]
     },
     "execution_count": 34,
     "metadata": {},
     "output_type": "execute_result"
    }
   ],
   "source": [
    "news_df.head()\n"
   ]
  },
  {
   "cell_type": "code",
   "execution_count": null,
   "id": "04f2c1d4",
   "metadata": {},
   "outputs": [],
   "source": [
    "# Convert dates to same format\n",
    "daily_sentiment['Date'] = pd.to_datetime(daily_sentiment['Date'])\n",
    "\n",
    "# Merge on 'Date'\n",
    "df = pd.merge(df, daily_sentiment, on='Date', how='left')\n",
    "\n",
    "#fill for na\n",
    "df['Sentiment'] = df['Sentiment'].fillna(0)\n"
   ]
  },
  {
   "cell_type": "code",
   "execution_count": 36,
   "id": "2832a932",
   "metadata": {},
   "outputs": [
    {
     "name": "stdout",
     "output_type": "stream",
     "text": [
      "         Date      Close  Sentiment\n",
      "90 2025-05-15  103763.71   0.000000\n",
      "91 2025-05-16  103463.90   0.000000\n",
      "92 2025-05-17  103126.65   0.000000\n",
      "93 2025-05-18  106454.26   0.000000\n",
      "94 2025-05-19  105573.74   0.000000\n",
      "95 2025-05-20  106849.99   0.000000\n",
      "96 2025-05-21  109643.99   0.000000\n",
      "97 2025-05-22  111696.21   0.050504\n",
      "98 2025-05-23  107318.30  -0.024421\n",
      "99 2025-05-24  107363.32   0.000000\n",
      "                      Date           Open          High            Low  \\\n",
      "count                  100     100.000000     100.00000     100.000000   \n",
      "mean   2025-04-04 12:00:00   90844.469600   92510.96490   89052.400700   \n",
      "min    2025-02-14 00:00:00   76322.420000   80867.99000   74508.000000   \n",
      "25%    2025-03-10 18:00:00   84025.290000   85317.99750   82450.185000   \n",
      "50%    2025-04-04 12:00:00   87445.520000   90207.07500   85659.545000   \n",
      "75%    2025-04-29 06:00:00   96505.177500   97140.94750   95359.207500   \n",
      "max    2025-05-24 00:00:00  111696.220000  111980.00000  109177.370000   \n",
      "std                    NaN    8352.302338    8117.55661    8637.087822   \n",
      "\n",
      "               Close        Volume     RSI_14         SMA_10         EMA_10  \\\n",
      "count     100.000000    100.000000  87.000000      91.000000      91.000000   \n",
      "mean    90952.015500  25954.865534  53.526365   89832.420143   89894.796106   \n",
      "min     76322.420000    859.642510  14.678574   81271.926000   81070.658688   \n",
      "25%     84025.292500  16012.953908  43.388530   83988.264500   84137.741767   \n",
      "50%     87445.515000  21490.220345  51.738422   87248.353000   87683.846162   \n",
      "75%     96505.185000  31746.635472  67.308052   95001.457000   94390.799826   \n",
      "max    111696.210000  83648.039690  78.152400  106525.407000  106686.758520   \n",
      "std      8495.296362  16561.704483  14.266760    7337.738276    7218.116524   \n",
      "\n",
      "             BB_High        BB_Low         MACD    Stoch_K    Stoch_D  \\\n",
      "count      81.000000     81.000000    75.000000  87.000000  85.000000   \n",
      "mean    96038.104059  81487.758249   660.605280  63.850000  64.435437   \n",
      "min     87178.618230  74986.357400 -3363.769081   6.476307  18.148659   \n",
      "25%     88985.471557  77919.233224 -1254.496302  39.282701  38.967147   \n",
      "50%     93887.042720  79511.904037  -203.497932  71.625106  72.263650   \n",
      "75%    100956.712840  82192.596444  3088.136310  87.671431  87.128501   \n",
      "max    112202.279347  95959.622414  4228.885999  98.563428  95.649616   \n",
      "std      7555.161332   5371.909460  2498.275740  27.264186  25.385333   \n",
      "\n",
      "              CCI         ADX   Sentiment  \n",
      "count   81.000000  100.000000  100.000000  \n",
      "mean    37.461947   19.986761    0.000261  \n",
      "min   -223.293849    0.000000   -0.024421  \n",
      "25%    -49.870862    0.000000    0.000000  \n",
      "50%     64.016447   22.537989    0.000000  \n",
      "75%     99.595392   32.221001    0.000000  \n",
      "max    241.963435   40.368372    0.050504  \n",
      "std    103.748859   14.020648    0.005632  \n"
     ]
    }
   ],
   "source": [
    "print(df[['Date', 'Close', 'Sentiment']].tail(10))  # last 10 rows\n",
    "print(df.describe())  # numerical summary (mean, std, min, etc.)"
   ]
  },
  {
   "cell_type": "code",
   "execution_count": 37,
   "id": "327935d3",
   "metadata": {},
   "outputs": [],
   "source": [
    "#cretae a target variable\n",
    "# Create binary target: 1 if tomorrow's close is higher than today's, else 0\n",
    "df['Target'] = (df['Close'].shift(-1) > df['Close']).astype(int)\n"
   ]
  },
  {
   "cell_type": "code",
   "execution_count": 38,
   "id": "485351c4",
   "metadata": {},
   "outputs": [],
   "source": [
    "features = [\n",
    "    'RSI_14', 'SMA_10', 'EMA_10', 'Sentiment',\n",
    "    'BB_High', 'BB_Low', 'MACD', 'Stoch_K', 'Stoch_D', 'CCI', 'ADX'\n",
    "]\n",
    "\n",
    "df = df.dropna()  # drop rows with any NaN values\n",
    "\n",
    "X = df[features]\n",
    "y = df['Target']"
   ]
  },
  {
   "cell_type": "code",
   "execution_count": 39,
   "id": "81393116",
   "metadata": {},
   "outputs": [
    {
     "name": "stdout",
     "output_type": "stream",
     "text": [
      "Requirement already satisfied: scikit-learn in c:\\users\\user\\appdata\\local\\programs\\python\\python312\\lib\\site-packages (1.6.1)\n",
      "Requirement already satisfied: numpy>=1.19.5 in c:\\users\\user\\appdata\\local\\programs\\python\\python312\\lib\\site-packages (from scikit-learn) (2.1.0)\n",
      "Requirement already satisfied: scipy>=1.6.0 in c:\\users\\user\\appdata\\local\\programs\\python\\python312\\lib\\site-packages (from scikit-learn) (1.14.1)\n",
      "Requirement already satisfied: joblib>=1.2.0 in c:\\users\\user\\appdata\\local\\programs\\python\\python312\\lib\\site-packages (from scikit-learn) (1.4.2)\n",
      "Requirement already satisfied: threadpoolctl>=3.1.0 in c:\\users\\user\\appdata\\local\\programs\\python\\python312\\lib\\site-packages (from scikit-learn) (3.6.0)\n",
      "Note: you may need to restart the kernel to use updated packages.\n"
     ]
    },
    {
     "name": "stderr",
     "output_type": "stream",
     "text": [
      "\n",
      "[notice] A new release of pip is available: 25.0.1 -> 25.1.1\n",
      "[notice] To update, run: python.exe -m pip install --upgrade pip\n"
     ]
    }
   ],
   "source": [
    "%pip install scikit-learn"
   ]
  },
  {
   "cell_type": "code",
   "execution_count": null,
   "id": "9b32e6bb",
   "metadata": {},
   "outputs": [],
   "source": [
    "#Train/test Split \n",
    "from sklearn.model_selection import train_test_split\n",
    "\n",
    "X_train, X_test, y_train, y_test = train_test_split(\n",
    "    X, y, test_size=0.2, shuffle=False\n",
    ")\n"
   ]
  },
  {
   "cell_type": "code",
   "execution_count": 41,
   "id": "3fa2ec0d",
   "metadata": {},
   "outputs": [
    {
     "name": "stdout",
     "output_type": "stream",
     "text": [
      "Accuracy: 0.5333333333333333\n",
      "              precision    recall  f1-score   support\n",
      "\n",
      "           0       0.67      0.25      0.36         8\n",
      "           1       0.50      0.86      0.63         7\n",
      "\n",
      "    accuracy                           0.53        15\n",
      "   macro avg       0.58      0.55      0.50        15\n",
      "weighted avg       0.59      0.53      0.49        15\n",
      "\n"
     ]
    }
   ],
   "source": [
    "from sklearn.ensemble import RandomForestClassifier\n",
    "from sklearn.metrics import classification_report, accuracy_score\n",
    "\n",
    "model = RandomForestClassifier(n_estimators=100, random_state=42)\n",
    "model.fit(X_train, y_train)\n",
    "\n",
    "y_pred = model.predict(X_test)\n",
    "\n",
    "print(\"Accuracy:\", accuracy_score(y_test, y_pred)) \n",
    "print(classification_report(y_test, y_pred))\n"
   ]
  }
 ],
 "metadata": {
  "kernelspec": {
   "display_name": "Python 3",
   "language": "python",
   "name": "python3"
  },
  "language_info": {
   "codemirror_mode": {
    "name": "ipython",
    "version": 3
   },
   "file_extension": ".py",
   "mimetype": "text/x-python",
   "name": "python",
   "nbconvert_exporter": "python",
   "pygments_lexer": "ipython3",
   "version": "3.12.5"
  }
 },
 "nbformat": 4,
 "nbformat_minor": 5
}
