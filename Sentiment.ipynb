{
 "cells": [
  {
   "cell_type": "code",
   "execution_count": null,
   "id": "853f2c90",
   "metadata": {},
   "outputs": [],
   "source": [
    "pip install python-binance"
   ]
  },
  {
   "cell_type": "code",
   "execution_count": 26,
   "id": "840cd498",
   "metadata": {},
   "outputs": [],
   "source": [
    "from binance.client import Client\n",
    "import pandas as pd\n",
    "\n",
    "# For public price data, you can leave keys empty\n",
    "client = Client(api_key='', api_secret='')\n",
    "\n",
    "# Example: Get 100 daily candles for BTC/USDT\n",
    "klines = client.get_klines(symbol='BTCUSDT', interval=Client.KLINE_INTERVAL_1DAY, limit=100)\n",
    "\n",
    "# Convert to DataFrame\n",
    "df = pd.DataFrame(klines, columns=[\n",
    "    'Open time', 'Open', 'High', 'Low', 'Close', 'Volume',\n",
    "    'Close time', 'Quote asset volume', 'Number of trades',\n",
    "    'Taker buy base asset volume', 'Taker buy quote asset volume', 'Ignore'\n",
    "])\n",
    "df['Date'] = pd.to_datetime(df['Open time'], unit='ms')\n",
    "df[['Open', 'High', 'Low', 'Close', 'Volume']] = df[['Open', 'High', 'Low', 'Close', 'Volume']].astype(float)\n",
    "df = df[['Date', 'Open', 'High', 'Low', 'Close', 'Volume']]\n"
   ]
  },
  {
   "cell_type": "code",
   "execution_count": null,
   "id": "d501fb1e",
   "metadata": {},
   "outputs": [],
   "source": [
    "print(df.head())"
   ]
  },
  {
   "cell_type": "code",
   "execution_count": null,
   "id": "e761298d",
   "metadata": {},
   "outputs": [],
   "source": [
    "pip install pandas-ta"
   ]
  },
  {
   "cell_type": "code",
   "execution_count": null,
   "id": "7d9f441e",
   "metadata": {},
   "outputs": [],
   "source": [
    "pip install ta"
   ]
  },
  {
   "cell_type": "code",
   "execution_count": null,
   "id": "ac97c198",
   "metadata": {},
   "outputs": [],
   "source": [
    "import ta\n",
    "\n",
    "df = df.dropna()\n",
    "df['RSI_14'] = ta.momentum.RSIIndicator(close=df['Close'], window=14).rsi()\n",
    "df['SMA_10'] = ta.trend.SMAIndicator(close=df['Close'], window=10).sma_indicator()\n",
    "df['EMA_10'] = ta.trend.EMAIndicator(close=df['Close'], window=10).ema_indicator()\n",
    "\n",
    "# Bollinger Bands\n",
    "bb = ta.volatility.BollingerBands(close=df['Close'])\n",
    "df['BB_High'] = bb.bollinger_hband()\n",
    "df['BB_Low'] = bb.bollinger_lband()\n",
    "\n",
    "# MACD\n",
    "macd = ta.trend.MACD(close=df['Close'])\n",
    "df['MACD'] = macd.macd()\n",
    "\n",
    "# Stochastic Oscillator\n",
    "stoch = ta.momentum.StochasticOscillator(high=df['High'], low=df['Low'], close=df['Close'])\n",
    "df['Stoch_K'] = stoch.stoch()\n",
    "df['Stoch_D'] = stoch.stoch_signal()\n",
    "\n",
    "# CCI (Commodity Channel Index)\n",
    "cci = ta.trend.CCIIndicator(high=df['High'], low=df['Low'], close=df['Close'])\n",
    "df['CCI'] = cci.cci()\n",
    "\n",
    "# ADX (Average Directional Index)\n",
    "adx = ta.trend.ADXIndicator(high=df['High'], low=df['Low'], close=df['Close'])\n",
    "df['ADX'] = adx.adx()\n",
    "\n"
   ]
  },
  {
   "cell_type": "code",
   "execution_count": null,
   "id": "d6fbc516",
   "metadata": {},
   "outputs": [],
   "source": [
    "print(df.tail(10))  # shows last 10 rows"
   ]
  },
  {
   "cell_type": "code",
   "execution_count": null,
   "id": "7bfc9577",
   "metadata": {},
   "outputs": [],
   "source": [
    "pip install newsapi-python vaderSentiment"
   ]
  },
  {
   "cell_type": "code",
   "execution_count": null,
   "id": "a9b9e9fb",
   "metadata": {},
   "outputs": [],
   "source": [
    "from newsapi import NewsApiClient\n",
    "from vaderSentiment.vaderSentiment import SentimentIntensityAnalyzer\n",
    "import pandas as pd\n",
    "\n",
    "\n",
    "newsapi = NewsApiClient(api_key='fe27f943772a4235a29f751edabae735')\n",
    "\n",
    "all_articles = newsapi.get_everything(\n",
    "    q='Bitcoin',\n",
    "    language='en',\n",
    "    sort_by='publishedAt',\n",
    "    page_size=100\n",
    ")\n",
    "news_df = pd.DataFrame(all_articles['articles'])\n",
    "news_df['publishedAt'] = pd.to_datetime(news_df['publishedAt'])\n",
    "\n",
    "# Sentiment analysis using VADER\n",
    "analyzer = SentimentIntensityAnalyzer()\n",
    "news_df['sentiment_score'] = news_df['title'].apply(lambda x: analyzer.polarity_scores(x)['compound'])\n",
    "\n",
    "# Add 'Date' column for grouping\n",
    "news_df['Date'] = news_df['publishedAt'].dt.date\n",
    "news_df['Date'] = pd.to_datetime(news_df['Date'])\n",
    "\n",
    "# Group by date to get average sentiment per day\n",
    "daily_sentiment = news_df.groupby('Date')['sentiment_score'].mean().reset_index()\n",
    "daily_sentiment.rename(columns={'sentiment_score': 'Sentiment'}, inplace=True)\n"
   ]
  },
  {
   "cell_type": "code",
   "execution_count": null,
   "id": "f23ef497",
   "metadata": {},
   "outputs": [],
   "source": [
    "news_df.head()\n"
   ]
  },
  {
   "cell_type": "code",
   "execution_count": null,
   "id": "04f2c1d4",
   "metadata": {},
   "outputs": [],
   "source": [
    "# Convert dates to same format\n",
    "daily_sentiment['Date'] = pd.to_datetime(daily_sentiment['Date'])\n",
    "\n",
    "# Merge on 'Date'\n",
    "df = pd.merge(df, daily_sentiment, on='Date', how='left')\n",
    "\n",
    "#fill for na\n",
    "df['Sentiment'] = df['Sentiment'].fillna(0)\n"
   ]
  },
  {
   "cell_type": "code",
   "execution_count": null,
   "id": "2832a932",
   "metadata": {},
   "outputs": [],
   "source": [
    "print(df[['Date', 'Close', 'Sentiment']].tail(10))  # last 10 rows\n",
    "print(df.describe())  # numerical summary (mean, std, min, etc.)"
   ]
  },
  {
   "cell_type": "code",
   "execution_count": 37,
   "id": "327935d3",
   "metadata": {},
   "outputs": [],
   "source": [
    "#cretae a target variable\n",
    "# Create binary target: 1 if tomorrow's close is higher than today's, else 0\n",
    "df['Target'] = (df['Close'].shift(-1) > df['Close']).astype(int)\n"
   ]
  },
  {
   "cell_type": "code",
   "execution_count": 38,
   "id": "485351c4",
   "metadata": {},
   "outputs": [],
   "source": [
    "features = [\n",
    "    'RSI_14', 'SMA_10', 'EMA_10', 'Sentiment',\n",
    "    'BB_High', 'BB_Low', 'MACD', 'Stoch_K', 'Stoch_D', 'CCI', 'ADX'\n",
    "]\n",
    "\n",
    "df = df.dropna()  # drop rows with any NaN values\n",
    "\n",
    "X = df[features]\n",
    "y = df['Target']"
   ]
  },
  {
   "cell_type": "code",
   "execution_count": null,
   "id": "81393116",
   "metadata": {},
   "outputs": [],
   "source": [
    "%pip install scikit-learn"
   ]
  },
  {
   "cell_type": "code",
   "execution_count": null,
   "id": "9b32e6bb",
   "metadata": {},
   "outputs": [],
   "source": [
    "#Train/test Split \n",
    "from sklearn.model_selection import train_test_split\n",
    "\n",
    "X_train, X_test, y_train, y_test = train_test_split(\n",
    "    X, y, test_size=0.2, shuffle=False\n",
    ")\n"
   ]
  },
  {
   "cell_type": "code",
   "execution_count": null,
   "id": "3fa2ec0d",
   "metadata": {},
   "outputs": [],
   "source": [
    "from sklearn.ensemble import RandomForestClassifier\n",
    "from sklearn.metrics import classification_report, accuracy_score\n",
    "\n",
    "model = RandomForestClassifier(n_estimators=100, random_state=42)\n",
    "model.fit(X_train, y_train)\n",
    "\n",
    "y_pred = model.predict(X_test)\n",
    "\n",
    "print(\"Accuracy:\", accuracy_score(y_test, y_pred)) \n",
    "print(classification_report(y_test, y_pred))\n"
   ]
  }
 ],
 "metadata": {
  "kernelspec": {
   "display_name": "Python 3",
   "language": "python",
   "name": "python3"
  },
  "language_info": {
   "codemirror_mode": {
    "name": "ipython",
    "version": 3
   },
   "file_extension": ".py",
   "mimetype": "text/x-python",
   "name": "python",
   "nbconvert_exporter": "python",
   "pygments_lexer": "ipython3",
   "version": "3.12.5"
  }
 },
 "nbformat": 4,
 "nbformat_minor": 5
}
